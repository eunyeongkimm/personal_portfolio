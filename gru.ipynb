{
  "nbformat": 4,
  "nbformat_minor": 0,
  "metadata": {
    "colab": {
      "provenance": [],
      "gpuType": "T4",
      "authorship_tag": "ABX9TyNVdE+CboFwlm5auKYddXGc",
      "include_colab_link": true
    },
    "kernelspec": {
      "name": "python3",
      "display_name": "Python 3"
    },
    "language_info": {
      "name": "python"
    },
    "accelerator": "GPU"
  },
  "cells": [
    {
      "cell_type": "markdown",
      "metadata": {
        "id": "view-in-github",
        "colab_type": "text"
      },
      "source": [
        "<a href=\"https://colab.research.google.com/github/eunyeongkimm/personal_project/blob/main/gru.ipynb\" target=\"_parent\"><img src=\"https://colab.research.google.com/assets/colab-badge.svg\" alt=\"Open In Colab\"/></a>"
      ]
    },
    {
      "cell_type": "code",
      "execution_count": null,
      "metadata": {
        "colab": {
          "base_uri": "https://localhost:8080/"
        },
        "id": "oerR_6koXcjl",
        "outputId": "73a0e527-b7b1-47a5-cd85-bd53629ad908"
      },
      "outputs": [
        {
          "output_type": "stream",
          "name": "stdout",
          "text": [
            "시계열 데이터 (시간에 따른 방문 수):\n",
            "   day_1  day_2  day_3  day_4  day_5  day_6  day_7  day_8  day_9  day_10  ...  \\\n",
            "0      5      4      4      5      5      3      5      4      6       7  ...   \n",
            "1      5      3      8     10      3      2      5      7      6       6  ...   \n",
            "2      3      4      8      2      2      2      7      6      7       6  ...   \n",
            "3     10      6      9      4      1      6      8      6      2       3  ...   \n",
            "4      3      7      7      6      6      7      8      6      3       7  ...   \n",
            "\n",
            "   day_22  day_23  day_24  day_25  day_26  day_27  day_28  day_29  day_30  \\\n",
            "0       4       3       8       3       3       5       8       3       2   \n",
            "1       5       4       3       8       2       1       4       5       4   \n",
            "2       3       5       9       6       6       9       4       9       2   \n",
            "3       5       6       2       4       7       6       5       4       3   \n",
            "4       2       3       5       3       4       5       6       3       3   \n",
            "\n",
            "   user_id  \n",
            "0   user_1  \n",
            "1   user_2  \n",
            "2   user_3  \n",
            "3   user_4  \n",
            "4   user_5  \n",
            "\n",
            "[5 rows x 31 columns]\n",
            "\n",
            "비시계열 데이터 (고객 특성):\n",
            "  age region gender     spending_score       loyalty_score user_id\n",
            "0  20      2      0  85.63984568034458  1.6345597411949475  user_1\n",
            "1  60      1      1  80.11278555712965    4.89153665625448  user_2\n",
            "2  18      2      1  59.93062230688758  1.2519973818371821  user_3\n",
            "3  25      1      0  77.39953720871141  2.8519819575013603  user_4\n",
            "4  51      0      1  68.04569046332766   2.866340561330598  user_5\n"
          ]
        }
      ],
      "source": [
        "import numpy as np\n",
        "import pandas as pd\n",
        "\n",
        "# 예시 데이터 생성 (1000명 고객, 30일간의 시계열 데이터)\n",
        "n_samples = 1000  # 고객 수\n",
        "n_time_steps = 30  # 날짜 수 (30일간의 방문 데이터)\n",
        "n_features = 1  # 시계열 특성 (페이지 방문 수)\n",
        "\n",
        "# 시계열 데이터 (일별 방문 수)\n",
        "np.random.seed(42)\n",
        "time_series_data = np.random.poisson(lam=5, size=(n_samples, n_time_steps, n_features))  # 평균 5의 포아송 분포로 생성\n",
        "\n",
        "# 비시계열 데이터 (고객 특성)\n",
        "# 고객의 나이, 지역, 성별, 지출 점수, 충성도 점수\n",
        "ages = np.random.randint(18, 65, n_samples)  # 18~65세\n",
        "regions = np.random.choice(['Seoul', 'Busan', 'Incheon'], size=n_samples)  # 3개 지역\n",
        "genders = np.random.choice(['Male', 'Female'], size=n_samples)  # 성별\n",
        "spending_scores = np.random.uniform(50, 100, n_samples)  # 50~100 사이의 지출 점수\n",
        "loyalty_scores = np.random.uniform(1.0, 5.0, n_samples)  # 1.0~5.0 사이의 충성도 점수\n",
        "\n",
        "# 비시계열 특성 데이터 결합\n",
        "non_time_series_data = np.column_stack([ages, regions, genders, spending_scores, loyalty_scores])\n",
        "\n",
        "# 비시계열 데이터의 'region'과 'gender'를 카테고리형으로 변환 (예: one-hot encoding)\n",
        "non_time_series_data[:, 1] = pd.Categorical(non_time_series_data[:, 1]).codes  # 'region' 카테고리 변환\n",
        "non_time_series_data[:, 2] = pd.Categorical(non_time_series_data[:, 2]).codes  # 'gender' 카테고리 변환\n",
        "\n",
        "# 데이터프레임으로 변환\n",
        "df_time_series = pd.DataFrame(time_series_data.reshape(n_samples, -1), columns=[f\"day_{i+1}\" for i in range(n_time_steps)])\n",
        "df_non_time_series = pd.DataFrame(non_time_series_data, columns=['age', 'region', 'gender', 'spending_score', 'loyalty_score'])\n",
        "\n",
        "# 고객 ID(user_id) 추가\n",
        "df_time_series['user_id'] = [f'user_{i+1}' for i in range(n_samples)]\n",
        "df_non_time_series['user_id'] = [f'user_{i+1}' for i in range(n_samples)]\n",
        "\n",
        "# 데이터 출력 (처리 성능을 위해 일부만 출력)\n",
        "print(\"시계열 데이터 (시간에 따른 방문 수):\")\n",
        "print(df_time_series.head())\n",
        "\n",
        "print(\"\\n비시계열 데이터 (고객 특성):\")\n",
        "print(df_non_time_series.head())\n"
      ]
    },
    {
      "cell_type": "code",
      "source": [
        "import torch\n",
        "import torch.nn as nn\n",
        "import torch.optim as optim\n",
        "from sklearn.model_selection import train_test_split\n",
        "from sklearn.preprocessing import StandardScaler\n",
        "from torch.utils.data import DataLoader, TensorDataset"
      ],
      "metadata": {
        "id": "tVzJwNpPZl9T"
      },
      "execution_count": null,
      "outputs": []
    },
    {
      "cell_type": "code",
      "source": [
        "# GPU 사용 여부 확인\n",
        "device = torch.device(\"cuda\" if torch.cuda.is_available() else \"cpu\")\n",
        "print(f\"Using device: {device}\")"
      ],
      "metadata": {
        "colab": {
          "base_uri": "https://localhost:8080/"
        },
        "id": "KSJ68NsoZpIg",
        "outputId": "cbfa8c91-c185-4255-bc28-f41c248ffe29"
      },
      "execution_count": null,
      "outputs": [
        {
          "output_type": "stream",
          "name": "stdout",
          "text": [
            "Using device: cuda\n"
          ]
        }
      ]
    },
    {
      "cell_type": "code",
      "source": [
        "# 시계열 데이터 및 비시계열 데이터 준비\n",
        "X_time_series = df_time_series.drop(columns=['user_id']).values.reshape(-1, 30, 1)  # 시계열 데이터 (n_samples, n_time_steps, n_features)\n",
        "X_non_time_series = df_non_time_series.drop(columns=['user_id']).values.astype(np.float32)  # 비시계열 특성\n",
        "y = np.random.randint(0, 2, len(df_time_series))  # 이진 분류 타겟 값 (0 또는 1)"
      ],
      "metadata": {
        "id": "DC1nniwjZzSn"
      },
      "execution_count": null,
      "outputs": []
    },
    {
      "cell_type": "code",
      "source": [
        "X_time_series"
      ],
      "metadata": {
        "colab": {
          "base_uri": "https://localhost:8080/"
        },
        "id": "aZ85kMnHaHhf",
        "outputId": "ca16db8d-29af-428b-a11f-a09aa1aed0c6"
      },
      "execution_count": null,
      "outputs": [
        {
          "output_type": "execute_result",
          "data": {
            "text/plain": [
              "array([[[ 5],\n",
              "        [ 4],\n",
              "        [ 4],\n",
              "        ...,\n",
              "        [ 8],\n",
              "        [ 3],\n",
              "        [ 2]],\n",
              "\n",
              "       [[ 5],\n",
              "        [ 3],\n",
              "        [ 8],\n",
              "        ...,\n",
              "        [ 4],\n",
              "        [ 5],\n",
              "        [ 4]],\n",
              "\n",
              "       [[ 3],\n",
              "        [ 4],\n",
              "        [ 8],\n",
              "        ...,\n",
              "        [ 4],\n",
              "        [ 9],\n",
              "        [ 2]],\n",
              "\n",
              "       ...,\n",
              "\n",
              "       [[10],\n",
              "        [ 4],\n",
              "        [ 3],\n",
              "        ...,\n",
              "        [ 6],\n",
              "        [ 5],\n",
              "        [ 4]],\n",
              "\n",
              "       [[ 7],\n",
              "        [ 9],\n",
              "        [ 4],\n",
              "        ...,\n",
              "        [ 6],\n",
              "        [ 7],\n",
              "        [ 3]],\n",
              "\n",
              "       [[ 6],\n",
              "        [ 7],\n",
              "        [ 6],\n",
              "        ...,\n",
              "        [ 5],\n",
              "        [ 8],\n",
              "        [ 0]]])"
            ]
          },
          "metadata": {},
          "execution_count": 5
        }
      ]
    },
    {
      "cell_type": "code",
      "source": [
        "# 데이터 표준화 (비시계열 특성만)\n",
        "scaler = StandardScaler()\n",
        "X_non_time_series = scaler.fit_transform(X_non_time_series)"
      ],
      "metadata": {
        "id": "3rnnCms9cnJS"
      },
      "execution_count": null,
      "outputs": []
    },
    {
      "cell_type": "code",
      "source": [
        "# 학습용, 테스트용 데이터 분할\n",
        "X_train_ts, X_test_ts, X_train_non_ts, X_test_non_ts, y_train, y_test = train_test_split(\n",
        "    X_time_series, X_non_time_series, y, test_size=0.2, random_state=42\n",
        ")"
      ],
      "metadata": {
        "id": "SMqw9XfhdY8x"
      },
      "execution_count": null,
      "outputs": []
    },
    {
      "cell_type": "code",
      "source": [
        "# 텐서로 변환\n",
        "X_train_ts = torch.tensor(X_train_ts, dtype=torch.float32).to(device)\n",
        "X_test_ts = torch.tensor(X_test_ts, dtype=torch.float32).to(device)\n",
        "X_train_non_ts = torch.tensor(X_train_non_ts, dtype=torch.float32).to(device)\n",
        "X_test_non_ts = torch.tensor(X_test_non_ts, dtype=torch.float32).to(device)\n",
        "y_train = torch.tensor(y_train, dtype=torch.float32).to(device)\n",
        "y_test = torch.tensor(y_test, dtype=torch.float32).to(device)"
      ],
      "metadata": {
        "id": "k_8YQHtgdhoe"
      },
      "execution_count": null,
      "outputs": []
    },
    {
      "cell_type": "code",
      "source": [
        "# 데이터로더 준비\n",
        "train_dataset = TensorDataset(X_train_ts, X_train_non_ts, y_train)\n",
        "test_dataset = TensorDataset(X_test_ts, X_test_non_ts, y_test)\n",
        "train_loader = DataLoader(train_dataset, batch_size=64, shuffle=True)\n",
        "test_loader = DataLoader(test_dataset, batch_size=64, shuffle=False)"
      ],
      "metadata": {
        "id": "R8F1mjnNdlwW"
      },
      "execution_count": null,
      "outputs": []
    },
    {
      "cell_type": "code",
      "source": [
        "# 모델 정의 (시그모이드 활성화 추가)\n",
        "class TimeSeriesModel(nn.Module):\n",
        "    def __init__(self, time_series_input_dim, non_time_series_input_dim):\n",
        "        super(TimeSeriesModel, self).__init__()\n",
        "        self.gru = nn.GRU(time_series_input_dim, 64, batch_first=True)\n",
        "        self.fc1 = nn.Linear(64, 32)\n",
        "        self.fc2 = nn.Linear(non_time_series_input_dim, 16)\n",
        "        self.fc3 = nn.Linear(32 + 16, 1)  # 이진 분류이므로 출력은 1 (확률값)\n",
        "\n",
        "    def forward(self, time_series_input, non_time_series_input):\n",
        "        # 시계열 데이터 처리\n",
        "        gru_out, _ = self.gru(time_series_input)\n",
        "        gru_out = gru_out[:, -1, :]  # 마지막 타임스텝의 출력\n",
        "\n",
        "        # 비시계열 데이터 처리\n",
        "        non_time_series_out = torch.relu(self.fc2(non_time_series_input))\n",
        "\n",
        "        # 결합\n",
        "        combined = torch.cat((gru_out, non_time_series_out), dim=1)\n",
        "        output = self.fc3(combined)\n",
        "\n",
        "        # 시그모이드 활성화 함수로 확률값 출력\n",
        "        output = torch.sigmoid(output)  # 확률값으로 변환\n",
        "        return output"
      ],
      "metadata": {
        "id": "iKXStujgdpun"
      },
      "execution_count": null,
      "outputs": []
    },
    {
      "cell_type": "code",
      "source": [
        "# 모델 인스턴스 생성\n",
        "model = TimeSeriesModel(time_series_input_dim=1, non_time_series_input_dim=X_non_time_series.shape[1]).to(device)"
      ],
      "metadata": {
        "id": "cma0S7XMdw-r"
      },
      "execution_count": null,
      "outputs": []
    },
    {
      "cell_type": "code",
      "source": [
        "# 손실 함수 및 옵티마이저 정의 (이진 교차 엔트로피)\n",
        "criterion = nn.BCEWithLogitsLoss()  # 시그모이드가 포함된 손실 함수\n",
        "optimizer = optim.Adam(model.parameters(), lr=0.001)"
      ],
      "metadata": {
        "id": "ON0eKlEYd0Xh"
      },
      "execution_count": null,
      "outputs": []
    },
    {
      "cell_type": "code",
      "source": [
        "class TimeSeriesModel(nn.Module):\n",
        "    def __init__(self, time_series_input_dim, non_time_series_input_dim):\n",
        "        super(TimeSeriesModel, self).__init__()\n",
        "        self.gru = nn.GRU(time_series_input_dim, 64, batch_first=True)\n",
        "        self.fc1 = nn.Linear(64, 32)  # GRU 출력 크기 64에서 32로 변환\n",
        "        self.fc2 = nn.Linear(non_time_series_input_dim, 16)  # 비시계열 특성 크기\n",
        "        self.fc3 = nn.Linear(64 + 16, 1)  # GRU 출력(64)과 비시계열 출력(16)을 합친 크기 80을 입력으로 사용\n",
        "\n",
        "    def forward(self, time_series_input, non_time_series_input):\n",
        "        # 시계열 데이터 처리\n",
        "        gru_out, _ = self.gru(time_series_input)\n",
        "        gru_out = gru_out[:, -1, :]  # 마지막 타임스텝의 출력\n",
        "\n",
        "        # 비시계열 데이터 처리\n",
        "        non_time_series_out = torch.relu(self.fc2(non_time_series_input))\n",
        "\n",
        "        # 두 출력을 결합하기 전에 차원 확인\n",
        "        #print(f\"gru_out shape: {gru_out.shape}, non_time_series_out shape: {non_time_series_out.shape}\")\n",
        "\n",
        "        # 결합\n",
        "        combined = torch.cat((gru_out, non_time_series_out), dim=1)  # 두 텐서를 결합 (64 + 16 = 80)\n",
        "\n",
        "        output = self.fc3(combined)  # 결합된 차원 80을 입력으로 처리\n",
        "\n",
        "        # 시그모이드 활성화 함수로 확률값 출력\n",
        "        output = torch.sigmoid(output)  # 확률값으로 변환\n",
        "        return output\n"
      ],
      "metadata": {
        "id": "BVZdvyqNd4a1"
      },
      "execution_count": null,
      "outputs": []
    },
    {
      "cell_type": "code",
      "source": [
        "# 모델 인스턴스 생성\n",
        "model = TimeSeriesModel(time_series_input_dim=1, non_time_series_input_dim=X_non_time_series.shape[1]).to(device)\n",
        "\n",
        "# 손실 함수 및 옵티마이저 정의 (이진 교차 엔트로피)\n",
        "criterion = nn.BCEWithLogitsLoss()  # 시그모이드가 포함된 손실 함수\n",
        "optimizer = optim.Adam(model.parameters(), lr=0.001)\n"
      ],
      "metadata": {
        "id": "0XpqDYcgeaFm"
      },
      "execution_count": null,
      "outputs": []
    },
    {
      "cell_type": "code",
      "source": [
        "# 모델 훈련\n",
        "epochs = 10\n",
        "for epoch in range(epochs):\n",
        "    model.train()\n",
        "    running_loss = 0.0\n",
        "    for batch in train_loader:\n",
        "        time_series_input, non_time_series_input, target = batch\n",
        "\n",
        "        # 데이터 GPU로 전송\n",
        "        time_series_input = time_series_input.to(device)\n",
        "        non_time_series_input = non_time_series_input.to(device)\n",
        "        target = target.to(device)\n",
        "\n",
        "        optimizer.zero_grad()\n",
        "        outputs = model(time_series_input, non_time_series_input)\n",
        "        loss = criterion(outputs.squeeze(), target)  # target은 1D 벡터\n",
        "        loss.backward()\n",
        "        optimizer.step()\n",
        "\n",
        "        running_loss += loss.item()\n",
        "\n",
        "    print(f\"Epoch [{epoch+1}/{epochs}], Loss: {running_loss/len(train_loader):.4f}\")\n"
      ],
      "metadata": {
        "colab": {
          "base_uri": "https://localhost:8080/"
        },
        "id": "J2skL4TuehQ_",
        "outputId": "c0847b91-a65f-4889-acc0-408934ebf93e"
      },
      "execution_count": null,
      "outputs": [
        {
          "output_type": "stream",
          "name": "stdout",
          "text": [
            "Epoch [1/10], Loss: 0.7074\n",
            "Epoch [2/10], Loss: 0.6963\n",
            "Epoch [3/10], Loss: 0.6940\n",
            "Epoch [4/10], Loss: 0.6930\n",
            "Epoch [5/10], Loss: 0.6931\n",
            "Epoch [6/10], Loss: 0.6934\n",
            "Epoch [7/10], Loss: 0.6932\n",
            "Epoch [8/10], Loss: 0.6932\n",
            "Epoch [9/10], Loss: 0.6931\n",
            "Epoch [10/10], Loss: 0.6929\n"
          ]
        }
      ]
    },
    {
      "cell_type": "code",
      "source": [
        "import torch\n",
        "from sklearn.metrics import roc_auc_score, roc_curve\n",
        "import matplotlib.pyplot as plt\n",
        "\n",
        "# 모델 평가\n",
        "model.eval()\n",
        "with torch.no_grad():\n",
        "    y_pred = []\n",
        "    y_true = []\n",
        "    for batch in test_loader:\n",
        "        time_series_input, non_time_series_input, target = batch\n",
        "        time_series_input = time_series_input.to(device)\n",
        "        non_time_series_input = non_time_series_input.to(device)\n",
        "        target = target.to(device)\n",
        "\n",
        "        outputs = model(time_series_input, non_time_series_input)\n",
        "        y_pred.append(outputs.squeeze().cpu().numpy())  # 예측 확률\n",
        "        y_true.append(target.cpu().numpy())  # 실제값\n",
        "\n",
        "    y_pred = np.concatenate(y_pred)\n",
        "    y_true = np.concatenate(y_true)\n",
        "\n",
        "    # AUC-ROC 계산\n",
        "    auc = roc_auc_score(y_true, y_pred)\n",
        "    print(f\"Test AUC-ROC: {auc:.4f}\")\n",
        "\n",
        "    # AUC-ROC 커브 그리기\n",
        "    fpr, tpr, thresholds = roc_curve(y_true, y_pred)\n",
        "    plt.figure(figsize=(8, 6))\n",
        "    plt.plot(fpr, tpr, color='blue', label=f'ROC Curve (AUC = {auc:.4f})')\n",
        "    plt.plot([0, 1], [0, 1], color='gray', linestyle='--')  # 랜덤 분류기 (대각선)\n",
        "    plt.xlabel('False Positive Rate')\n",
        "    plt.ylabel('True Positive Rate')\n",
        "    plt.title('Receiver Operating Characteristic Curve')\n",
        "    plt.legend(loc='lower right')\n",
        "    plt.show()\n",
        "\n",
        "    # RMSE 계산\n",
        "    rmse = np.sqrt(np.mean((y_pred - y_true) ** 2))\n",
        "    print(f\"Test RMSE: {rmse:.4f}\")\n"
      ],
      "metadata": {
        "colab": {
          "base_uri": "https://localhost:8080/",
          "height": 600
        },
        "id": "ClnCtmbBgadf",
        "outputId": "ff27629a-e9dc-44a3-ae99-6a384d170468"
      },
      "execution_count": null,
      "outputs": [
        {
          "output_type": "stream",
          "name": "stdout",
          "text": [
            "Test AUC-ROC: 0.4736\n"
          ]
        },
        {
          "output_type": "display_data",
          "data": {
            "text/plain": [
              "<Figure size 800x600 with 1 Axes>"
            ],
            "image/png": "[encoded data removed]"
          },
          "metadata": {}
        },
        {
          "output_type": "stream",
          "name": "stdout",
          "text": [
            "Test RMSE: 0.6963\n"
          ]
        }
      ]
    },
    {
      "cell_type": "code",
      "source": [
        "import pandas as pd\n",
        "import numpy as np\n",
        "\n",
        "# 예시 데이터: VOC 수, 조회수, 날짜\n",
        "data_voc = {\n",
        "    'date': ['2024-01-03', '2024-01-06', '2024-01-31', '2024-01-05'],\n",
        "    'user_id': ['12345678', '12345678', '12345678', '12121212'],\n",
        "    'voc_count': [1, 2, 1, 1]\n",
        "}\n",
        "data_view = {\n",
        "    'date': ['2024-01-01', '2024-01-02', '2024-01-31', '2024-01-05'],\n",
        "    'user_id': ['12345678', '12345678', '12345678', '12121212'],\n",
        "    'view_count': [33, 16, 11, 55]\n",
        "}\n",
        "\n",
        "# VOC 수와 조회수 데이터프레임 생성\n",
        "df_voc = pd.DataFrame(data_voc)\n",
        "df_view = pd.DataFrame(data_view)\n",
        "\n",
        "# 날짜 형식으로 변환\n",
        "df_voc['date'] = pd.to_datetime(df_voc['date'])\n",
        "df_view['date'] = pd.to_datetime(df_view['date'])\n",
        "\n",
        "# 날짜의 전체 범위 생성 (2024-01-01 ~ 2024-03-31)\n",
        "date_range = pd.date_range(start='2024-01-01', end='2024-03-31')\n",
        "\n",
        "# 유니크한 user_id에 대해 날짜 범위를 생성\n",
        "user_ids = df_voc['user_id'].unique()  # 유니크 유저 아이디\n",
        "all_dates = pd.MultiIndex.from_product([user_ids, date_range], names=['user_id', 'date'])\n",
        "\n",
        "# MultiIndex를 DataFrame으로 변환 (reset_index로 컬럼화)\n",
        "df_all_dates = all_dates.to_frame(index=False)\n",
        "\n",
        "# VOC 수와 조회수 데이터를 각 유저별로 left join\n",
        "df_voc_full = pd.merge(df_all_dates, df_voc[['user_id', 'date', 'voc_count']], on=['user_id', 'date'], how='left')\n",
        "df_voc_full = pd.merge(df_voc_full, df_view[['user_id', 'date', 'view_count']], on=['user_id', 'date'], how='left')\n",
        "\n",
        "# 결측값을 0으로 채우기\n",
        "df_voc_full['voc_count'] = df_voc_full['voc_count'].fillna(0)\n",
        "df_voc_full['view_count'] = df_voc_full['view_count'].fillna(0)\n",
        "\n",
        "# 출력: 결측값 처리 후 일별 데이터\n",
        "print(\"\\n결측값 처리 후 일별 데이터:\")\n",
        "print(df_voc_full)\n"
      ],
      "metadata": {
        "colab": {
          "base_uri": "https://localhost:8080/"
        },
        "id": "17LL5LLFysfc",
        "outputId": "592bce88-eb38-492c-af29-ab38a608acf1"
      },
      "execution_count": 8,
      "outputs": [
        {
          "output_type": "stream",
          "name": "stdout",
          "text": [
            "\n",
            "결측값 처리 후 일별 데이터:\n",
            "      user_id       date  voc_count  view_count\n",
            "0    12345678 2024-01-01        0.0        33.0\n",
            "1    12345678 2024-01-02        0.0        16.0\n",
            "2    12345678 2024-01-03        1.0         0.0\n",
            "3    12345678 2024-01-04        0.0         0.0\n",
            "4    12345678 2024-01-05        0.0         0.0\n",
            "..        ...        ...        ...         ...\n",
            "177  12121212 2024-03-27        0.0         0.0\n",
            "178  12121212 2024-03-28        0.0         0.0\n",
            "179  12121212 2024-03-29        0.0         0.0\n",
            "180  12121212 2024-03-30        0.0         0.0\n",
            "181  12121212 2024-03-31        0.0         0.0\n",
            "\n",
            "[182 rows x 4 columns]\n"
          ]
        }
      ]
    },
    {
      "cell_type": "code",
      "source": [
        "df_voc_full.head(90)"
      ],
      "metadata": {
        "colab": {
          "base_uri": "https://localhost:8080/",
          "height": 424
        },
        "id": "Kckyl76gHTiO",
        "outputId": "90878ace-c511-47ba-ea6d-44010d24b0c6"
      },
      "execution_count": 10,
      "outputs": [
        {
          "output_type": "execute_result",
          "data": {
            "text/plain": [
              "     user_id       date  voc_count  view_count\n",
              "0   12345678 2024-01-01        0.0        33.0\n",
              "1   12345678 2024-01-02        0.0        16.0\n",
              "2   12345678 2024-01-03        1.0         0.0\n",
              "3   12345678 2024-01-04        0.0         0.0\n",
              "4   12345678 2024-01-05        0.0         0.0\n",
              "..       ...        ...        ...         ...\n",
              "85  12345678 2024-03-26        0.0         0.0\n",
              "86  12345678 2024-03-27        0.0         0.0\n",
              "87  12345678 2024-03-28        0.0         0.0\n",
              "88  12345678 2024-03-29        0.0         0.0\n",
              "89  12345678 2024-03-30        0.0         0.0\n",
              "\n",
              "[90 rows x 4 columns]"
            ],
            "text/html": [
              "\n",
              "  <div id=\"df-4834ebad-0caf-4aa0-8f46-06bb435ce0ea\" class=\"colab-df-container\">\n",
              "    <div>\n",
              "<style scoped>\n",
              "    .dataframe tbody tr th:only-of-type {\n",
              "        vertical-align: middle;\n",
              "    }\n",
              "\n",
              "    .dataframe tbody tr th {\n",
              "        vertical-align: top;\n",
              "    }\n",
              "\n",
              "    .dataframe thead th {\n",
              "        text-align: right;\n",
              "    }\n",
              "</style>\n",
              "<table border=\"1\" class=\"dataframe\">\n",
              "  <thead>\n",
              "    <tr style=\"text-align: right;\">\n",
              "      <th></th>\n",
              "      <th>user_id</th>\n",
              "      <th>date</th>\n",
              "      <th>voc_count</th>\n",
              "      <th>view_count</th>\n",
              "    </tr>\n",
              "  </thead>\n",
              "  <tbody>\n",
              "    <tr>\n",
              "      <th>0</th>\n",
              "      <td>12345678</td>\n",
              "      <td>2024-01-01</td>\n",
              "      <td>0.0</td>\n",
              "      <td>33.0</td>\n",
              "    </tr>\n",
              "    <tr>\n",
              "      <th>1</th>\n",
              "      <td>12345678</td>\n",
              "      <td>2024-01-02</td>\n",
              "      <td>0.0</td>\n",
              "      <td>16.0</td>\n",
              "    </tr>\n",
              "    <tr>\n",
              "      <th>2</th>\n",
              "      <td>12345678</td>\n",
              "      <td>2024-01-03</td>\n",
              "      <td>1.0</td>\n",
              "      <td>0.0</td>\n",
              "    </tr>\n",
              "    <tr>\n",
              "      <th>3</th>\n",
              "      <td>12345678</td>\n",
              "      <td>2024-01-04</td>\n",
              "      <td>0.0</td>\n",
              "      <td>0.0</td>\n",
              "    </tr>\n",
              "    <tr>\n",
              "      <th>4</th>\n",
              "      <td>12345678</td>\n",
              "      <td>2024-01-05</td>\n",
              "      <td>0.0</td>\n",
              "      <td>0.0</td>\n",
              "    </tr>\n",
              "    <tr>\n",
              "      <th>...</th>\n",
              "      <td>...</td>\n",
              "      <td>...</td>\n",
              "      <td>...</td>\n",
              "      <td>...</td>\n",
              "    </tr>\n",
              "    <tr>\n",
              "      <th>85</th>\n",
              "      <td>12345678</td>\n",
              "      <td>2024-03-26</td>\n",
              "      <td>0.0</td>\n",
              "      <td>0.0</td>\n",
              "    </tr>\n",
              "    <tr>\n",
              "      <th>86</th>\n",
              "      <td>12345678</td>\n",
              "      <td>2024-03-27</td>\n",
              "      <td>0.0</td>\n",
              "      <td>0.0</td>\n",
              "    </tr>\n",
              "    <tr>\n",
              "      <th>87</th>\n",
              "      <td>12345678</td>\n",
              "      <td>2024-03-28</td>\n",
              "      <td>0.0</td>\n",
              "      <td>0.0</td>\n",
              "    </tr>\n",
              "    <tr>\n",
              "      <th>88</th>\n",
              "      <td>12345678</td>\n",
              "      <td>2024-03-29</td>\n",
              "      <td>0.0</td>\n",
              "      <td>0.0</td>\n",
              "    </tr>\n",
              "    <tr>\n",
              "      <th>89</th>\n",
              "      <td>12345678</td>\n",
              "      <td>2024-03-30</td>\n",
              "      <td>0.0</td>\n",
              "      <td>0.0</td>\n",
              "    </tr>\n",
              "  </tbody>\n",
              "</table>\n",
              "<p>90 rows × 4 columns</p>\n",
              "</div>\n",
              "    <div class=\"colab-df-buttons\">\n",
              "\n",
              "  <div class=\"colab-df-container\">\n",
              "    <button class=\"colab-df-convert\" onclick=\"convertToInteractive('df-4834ebad-0caf-4aa0-8f46-06bb435ce0ea')\"\n",
              "            title=\"Convert this dataframe to an interactive table.\"\n",
              "            style=\"display:none;\">\n",
              "\n",
              "  <svg xmlns=\"http://www.w3.org/2000/svg\" height=\"24px\" viewBox=\"0 -960 960 960\">\n",
              "    <path d=\"M120-120v-720h720v720H120Zm60-500h600v-160H180v160Zm220 220h160v-160H400v160Zm0 220h160v-160H400v160ZM180-400h160v-160H180v160Zm440 0h160v-160H620v160ZM180-180h160v-160H180v160Zm440 0h160v-160H620v160Z\"/>\n",
              "  </svg>\n",
              "    </button>\n",
              "\n",
              "  <style>\n",
              "    .colab-df-container {\n",
              "      display:flex;\n",
              "      gap: 12px;\n",
              "    }\n",
              "\n",
              "    .colab-df-convert {\n",
              "      background-color: #E8F0FE;\n",
              "      border: none;\n",
              "      border-radius: 50%;\n",
              "      cursor: pointer;\n",
              "      display: none;\n",
              "      fill: #1967D2;\n",
              "      height: 32px;\n",
              "      padding: 0 0 0 0;\n",
              "      width: 32px;\n",
              "    }\n",
              "\n",
              "    .colab-df-convert:hover {\n",
              "      background-color: #E2EBFA;\n",
              "      box-shadow: 0px 1px 2px rgba(60, 64, 67, 0.3), 0px 1px 3px 1px rgba(60, 64, 67, 0.15);\n",
              "      fill: #174EA6;\n",
              "    }\n",
              "\n",
              "    .colab-df-buttons div {\n",
              "      margin-bottom: 4px;\n",
              "    }\n",
              "\n",
              "    [theme=dark] .colab-df-convert {\n",
              "      background-color: #3B4455;\n",
              "      fill: #D2E3FC;\n",
              "    }\n",
              "\n",
              "    [theme=dark] .colab-df-convert:hover {\n",
              "      background-color: #434B5C;\n",
              "      box-shadow: 0px 1px 3px 1px rgba(0, 0, 0, 0.15);\n",
              "      filter: drop-shadow(0px 1px 2px rgba(0, 0, 0, 0.3));\n",
              "      fill: #FFFFFF;\n",
              "    }\n",
              "  </style>\n",
              "\n",
              "    <script>\n",
              "      const buttonEl =\n",
              "        document.querySelector('#df-4834ebad-0caf-4aa0-8f46-06bb435ce0ea button.colab-df-convert');\n",
              "      buttonEl.style.display =\n",
              "        google.colab.kernel.accessAllowed ? 'block' : 'none';\n",
              "\n",
              "      async function convertToInteractive(key) {\n",
              "        const element = document.querySelector('#df-4834ebad-0caf-4aa0-8f46-06bb435ce0ea');\n",
              "        const dataTable =\n",
              "          await google.colab.kernel.invokeFunction('convertToInteractive',\n",
              "                                                    [key], {});\n",
              "        if (!dataTable) return;\n",
              "\n",
              "        const docLinkHtml = 'Like what you see? Visit the ' +\n",
              "          '<a target=\"_blank\" href=https://colab.research.google.com/notebooks/data_table.ipynb>data table notebook</a>'\n",
              "          + ' to learn more about interactive tables.';\n",
              "        element.innerHTML = '';\n",
              "        dataTable['output_type'] = 'display_data';\n",
              "        await google.colab.output.renderOutput(dataTable, element);\n",
              "        const docLink = document.createElement('div');\n",
              "        docLink.innerHTML = docLinkHtml;\n",
              "        element.appendChild(docLink);\n",
              "      }\n",
              "    </script>\n",
              "  </div>\n",
              "\n",
              "\n",
              "<div id=\"df-110e2f07-e20d-4020-9c89-73d0e0654138\">\n",
              "  <button class=\"colab-df-quickchart\" onclick=\"quickchart('df-110e2f07-e20d-4020-9c89-73d0e0654138')\"\n",
              "            title=\"Suggest charts\"\n",
              "            style=\"display:none;\">\n",
              "\n",
              "<svg xmlns=\"http://www.w3.org/2000/svg\" height=\"24px\"viewBox=\"0 0 24 24\"\n",
              "     width=\"24px\">\n",
              "    <g>\n",
              "        <path d=\"M19 3H5c-1.1 0-2 .9-2 2v14c0 1.1.9 2 2 2h14c1.1 0 2-.9 2-2V5c0-1.1-.9-2-2-2zM9 17H7v-7h2v7zm4 0h-2V7h2v10zm4 0h-2v-4h2v4z\"/>\n",
              "    </g>\n",
              "</svg>\n",
              "  </button>\n",
              "\n",
              "<style>\n",
              "  .colab-df-quickchart {\n",
              "      --bg-color: #E8F0FE;\n",
              "      --fill-color: #1967D2;\n",
              "      --hover-bg-color: #E2EBFA;\n",
              "      --hover-fill-color: #174EA6;\n",
              "      --disabled-fill-color: #AAA;\n",
              "      --disabled-bg-color: #DDD;\n",
              "  }\n",
              "\n",
              "  [theme=dark] .colab-df-quickchart {\n",
              "      --bg-color: #3B4455;\n",
              "      --fill-color: #D2E3FC;\n",
              "      --hover-bg-color: #434B5C;\n",
              "      --hover-fill-color: #FFFFFF;\n",
              "      --disabled-bg-color: #3B4455;\n",
              "      --disabled-fill-color: #666;\n",
              "  }\n",
              "\n",
              "  .colab-df-quickchart {\n",
              "    background-color: var(--bg-color);\n",
              "    border: none;\n",
              "    border-radius: 50%;\n",
              "    cursor: pointer;\n",
              "    display: none;\n",
              "    fill: var(--fill-color);\n",
              "    height: 32px;\n",
              "    padding: 0;\n",
              "    width: 32px;\n",
              "  }\n",
              "\n",
              "  .colab-df-quickchart:hover {\n",
              "    background-color: var(--hover-bg-color);\n",
              "    box-shadow: 0 1px 2px rgba(60, 64, 67, 0.3), 0 1px 3px 1px rgba(60, 64, 67, 0.15);\n",
              "    fill: var(--button-hover-fill-color);\n",
              "  }\n",
              "\n",
              "  .colab-df-quickchart-complete:disabled,\n",
              "  .colab-df-quickchart-complete:disabled:hover {\n",
              "    background-color: var(--disabled-bg-color);\n",
              "    fill: var(--disabled-fill-color);\n",
              "    box-shadow: none;\n",
              "  }\n",
              "\n",
              "  .colab-df-spinner {\n",
              "    border: 2px solid var(--fill-color);\n",
              "    border-color: transparent;\n",
              "    border-bottom-color: var(--fill-color);\n",
              "    animation:\n",
              "      spin 1s steps(1) infinite;\n",
              "  }\n",
              "\n",
              "  @keyframes spin {\n",
              "    0% {\n",
              "      border-color: transparent;\n",
              "      border-bottom-color: var(--fill-color);\n",
              "      border-left-color: var(--fill-color);\n",
              "    }\n",
              "    20% {\n",
              "      border-color: transparent;\n",
              "      border-left-color: var(--fill-color);\n",
              "      border-top-color: var(--fill-color);\n",
              "    }\n",
              "    30% {\n",
              "      border-color: transparent;\n",
              "      border-left-color: var(--fill-color);\n",
              "      border-top-color: var(--fill-color);\n",
              "      border-right-color: var(--fill-color);\n",
              "    }\n",
              "    40% {\n",
              "      border-color: transparent;\n",
              "      border-right-color: var(--fill-color);\n",
              "      border-top-color: var(--fill-color);\n",
              "    }\n",
              "    60% {\n",
              "      border-color: transparent;\n",
              "      border-right-color: var(--fill-color);\n",
              "    }\n",
              "    80% {\n",
              "      border-color: transparent;\n",
              "      border-right-color: var(--fill-color);\n",
              "      border-bottom-color: var(--fill-color);\n",
              "    }\n",
              "    90% {\n",
              "      border-color: transparent;\n",
              "      border-bottom-color: var(--fill-color);\n",
              "    }\n",
              "  }\n",
              "</style>\n",
              "\n",
              "  <script>\n",
              "    async function quickchart(key) {\n",
              "      const quickchartButtonEl =\n",
              "        document.querySelector('#' + key + ' button');\n",
              "      quickchartButtonEl.disabled = true;  // To prevent multiple clicks.\n",
              "      quickchartButtonEl.classList.add('colab-df-spinner');\n",
              "      try {\n",
              "        const charts = await google.colab.kernel.invokeFunction(\n",
              "            'suggestCharts', [key], {});\n",
              "      } catch (error) {\n",
              "        console.error('Error during call to suggestCharts:', error);\n",
              "      }\n",
              "      quickchartButtonEl.classList.remove('colab-df-spinner');\n",
              "      quickchartButtonEl.classList.add('colab-df-quickchart-complete');\n",
              "    }\n",
              "    (() => {\n",
              "      let quickchartButtonEl =\n",
              "        document.querySelector('#df-110e2f07-e20d-4020-9c89-73d0e0654138 button');\n",
              "      quickchartButtonEl.style.display =\n",
              "        google.colab.kernel.accessAllowed ? 'block' : 'none';\n",
              "    })();\n",
              "  </script>\n",
              "</div>\n",
              "\n",
              "    </div>\n",
              "  </div>\n"
            ],
            "application/vnd.google.colaboratory.intrinsic+json": {
              "type": "dataframe",
              "variable_name": "df_voc_full",
              "summary": "{\n  \"name\": \"df_voc_full\",\n  \"rows\": 182,\n  \"fields\": [\n    {\n      \"column\": \"user_id\",\n      \"properties\": {\n        \"dtype\": \"category\",\n        \"num_unique_values\": 2,\n        \"samples\": [\n          \"12121212\",\n          \"12345678\"\n        ],\n        \"semantic_type\": \"\",\n        \"description\": \"\"\n      }\n    },\n    {\n      \"column\": \"date\",\n      \"properties\": {\n        \"dtype\": \"date\",\n        \"min\": \"2024-01-01 00:00:00\",\n        \"max\": \"2024-03-31 00:00:00\",\n        \"num_unique_values\": 91,\n        \"samples\": [\n          \"2024-02-10 00:00:00\",\n          \"2024-01-23 00:00:00\"\n        ],\n        \"semantic_type\": \"\",\n        \"description\": \"\"\n      }\n    },\n    {\n      \"column\": \"voc_count\",\n      \"properties\": {\n        \"dtype\": \"number\",\n        \"std\": 0.19471806169557634,\n        \"min\": 0.0,\n        \"max\": 2.0,\n        \"num_unique_values\": 3,\n        \"samples\": [\n          0.0,\n          1.0\n        ],\n        \"semantic_type\": \"\",\n        \"description\": \"\"\n      }\n    },\n    {\n      \"column\": \"view_count\",\n      \"properties\": {\n        \"dtype\": \"number\",\n        \"std\": 4.940717712886074,\n        \"min\": 0.0,\n        \"max\": 55.0,\n        \"num_unique_values\": 5,\n        \"samples\": [\n          16.0,\n          55.0\n        ],\n        \"semantic_type\": \"\",\n        \"description\": \"\"\n      }\n    }\n  ]\n}"
            }
          },
          "metadata": {},
          "execution_count": 10
        }
      ]
    },
    {
      "cell_type": "code",
      "source": [
        "\n",
        "\n",
        "# GRU 모델에 맞게 데이터 준비\n",
        "time_steps = 90  # 시계열 길이 (예: 90일)\n",
        "features = ['voc_count', 'view_count']  # 사용할 특성\n",
        "n_samples = df_voc_full['user_id'].nunique()  # 유저 수\n",
        "\n",
        "# 데이터프레임을 (samples, time_steps, features)로 변환\n",
        "X = df_voc_full.groupby('user_id')[features].apply(\n",
        "    lambda group: group.values[:time_steps]\n",
        ").tolist()\n",
        "\n",
        "# 리스트를 3D Numpy 배열로 변환\n",
        "X = np.array(X)\n",
        "\n",
        "print(\"\\nGRU 모델 입력 데이터 (X):\")\n",
        "print(f\"Shape: {X.shape}\")  # (samples, time_steps, features)\n"
      ],
      "metadata": {
        "colab": {
          "base_uri": "https://localhost:8080/"
        },
        "id": "hEEasNIxHvKp",
        "outputId": "99823545-6c01-4c4a-b26a-a082bb85dd6c"
      },
      "execution_count": 11,
      "outputs": [
        {
          "output_type": "stream",
          "name": "stdout",
          "text": [
            "\n",
            "GRU 모델 입력 데이터 (X):\n",
            "Shape: (2, 90, 2)\n"
          ]
        }
      ]
    },
    {
      "cell_type": "code",
      "source": [
        "import torch\n",
        "import torch.nn as nn\n",
        "import torch.optim as optim\n",
        "from sklearn.model_selection import train_test_split\n",
        "\n",
        "# 데이터 준비\n",
        "X_tensor = torch.tensor(X, dtype=torch.float32)  # 입력 데이터 (GRU 모델용)\n",
        "y = np.random.randint(0, 2, size=(n_samples,))  # 이진 분류 레이블 (예시)\n",
        "y_tensor = torch.tensor(y, dtype=torch.float32)\n",
        "\n",
        "# 학습/테스트 분할\n",
        "X_train, X_test, y_train, y_test = train_test_split(X_tensor, y_tensor, test_size=0.2, random_state=42)\n",
        "\n",
        "# GRU 모델 정의\n",
        "class GRUModel(nn.Module):\n",
        "    def __init__(self, input_dim, hidden_dim, output_dim):\n",
        "        super(GRUModel, self).__init__()\n",
        "        self.gru = nn.GRU(input_dim, hidden_dim, batch_first=True)\n",
        "        self.fc = nn.Linear(hidden_dim, output_dim)\n",
        "        self.sigmoid = nn.Sigmoid()\n",
        "\n",
        "    def forward(self, x):\n",
        "        _, h_n = self.gru(x)  # GRU의 마지막 은닉 상태(h_n)를 가져옴\n",
        "        output = self.fc(h_n[-1])  # 마지막 은닉 상태를 FC 레이어에 통과\n",
        "        return self.sigmoid(output)  # 이진 분류를 위해 sigmoid 활성화 사용\n",
        "\n",
        "# 모델 인스턴스 생성\n",
        "input_dim = 2  # 특성 수 (voc_count, view_count)\n",
        "hidden_dim = 64  # GRU 은닉 상태 크기\n",
        "output_dim = 1  # 이진 분류 출력\n",
        "model = GRUModel(input_dim, hidden_dim, output_dim)\n",
        "\n",
        "# 손실 함수와 옵티마이저\n",
        "criterion = nn.BCELoss()  # 이진 교차 엔트로피 손실\n",
        "optimizer = optim.Adam(model.parameters(), lr=0.001)\n",
        "\n",
        "# 데이터 로더 준비\n",
        "train_data = torch.utils.data.TensorDataset(X_train, y_train)\n",
        "train_loader = torch.utils.data.DataLoader(train_data, batch_size=16, shuffle=True)\n",
        "\n",
        "# 모델 학습\n",
        "epochs = 10\n",
        "for epoch in range(epochs):\n",
        "    model.train()\n",
        "    running_loss = 0.0\n",
        "    for X_batch, y_batch in train_loader:\n",
        "        optimizer.zero_grad()\n",
        "        outputs = model(X_batch)  # 모델 출력\n",
        "        loss = criterion(outputs.squeeze(-1), y_batch)  # squeeze(-1)로 마지막 차원만 제거\n",
        "        loss.backward()\n",
        "        optimizer.step()\n",
        "        running_loss += loss.item()\n",
        "    print(f\"Epoch [{epoch+1}/{epochs}], Loss: {running_loss/len(train_loader):.4f}\")\n",
        "\n",
        "\n",
        "# 모델 평가\n",
        "model.eval()\n",
        "with torch.no_grad():\n",
        "    y_pred = model(X_test).squeeze().numpy()\n",
        "    y_pred_class = (y_pred > 0.5).astype(int)\n",
        "    accuracy = (y_pred_class == y_test.numpy()).mean()\n",
        "    print(f\"Test Accuracy: {accuracy:.4f}\")\n"
      ],
      "metadata": {
        "colab": {
          "base_uri": "https://localhost:8080/"
        },
        "id": "I05JCGYbHyba",
        "outputId": "63268252-128a-4998-bda8-66e04bbc4ede"
      },
      "execution_count": 13,
      "outputs": [
        {
          "output_type": "stream",
          "name": "stdout",
          "text": [
            "Epoch [1/10], Loss: 0.7338\n",
            "Epoch [2/10], Loss: 0.7229\n",
            "Epoch [3/10], Loss: 0.7120\n",
            "Epoch [4/10], Loss: 0.7010\n",
            "Epoch [5/10], Loss: 0.6900\n",
            "Epoch [6/10], Loss: 0.6788\n",
            "Epoch [7/10], Loss: 0.6675\n",
            "Epoch [8/10], Loss: 0.6559\n",
            "Epoch [9/10], Loss: 0.6441\n",
            "Epoch [10/10], Loss: 0.6319\n",
            "Test Accuracy: 0.0000\n"
          ]
        }
      ]
    }
  ]
}